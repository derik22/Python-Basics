{
  "nbformat": 4,
  "nbformat_minor": 0,
  "metadata": {
    "colab": {
      "provenance": []
    },
    "kernelspec": {
      "name": "python3",
      "display_name": "Python 3"
    },
    "language_info": {
      "name": "python"
    }
  },
  "cells": [
    {
      "cell_type": "markdown",
      "source": [
        "                                       Python Basics\n",
        "\n",
        "#Questions\n",
        "\n",
        "Q1 What is Python, and why is it popular?\n",
        "- Answer:: What is Python:-Python is a high-level, interpreted programming language.It is known for its simple syntax and ease of learning.Python is widely used in web development, data science, automation, and AI.\n",
        "Its large community and rich libraries make it very powerful and popular.\n",
        "- why python is popular:-Python is popular because it has a simple, easy-to-read syntax that’s great for beginners.It supports multiple programming styles, including object-oriented and functional programming.Python has a vast collection of libraries and frameworks for tasks like web development, data analysis, and machine learning.\n",
        "\n",
        "Q2 What is an interpreter in Python ?\n",
        "- Answer:: An interpreter in Python is a program that reads and executes Python code line by line.It translates the high-level Python code into machine code at runtime.This allows you to run Python programs without compiling them first.\n",
        "It also helps in easy debugging and testing of code.\n",
        "\n",
        "\n",
        "Q3 What are pre-defined keywords in Python ?\n",
        "- Answer:: Pre-defined keywords in Python are reserved words that have special meanings and cannot be used as variable names. They are part of the Python language syntax and help define the structure and rules of the code.Pre-defined Keywords in Python are  if, else, while, for, def, class, import, and return.\n",
        "\n",
        "Q4 Can keywords be used as variable names ?\n",
        "- Answer:: No, because keywords are reserved words in Python that have special meanings and are used to define the structure and logic of the code. Using them as variable names will cause a syntax error, as the Python interpreter expects them to be used only for their intended purpose. For Example: if ,else, for, while, and , not ETC.\n",
        "\n",
        "        for = 5  \n",
        "        Error: 'for' is a keyword\n",
        "    \n",
        "Q5 What is mutability in Python ?\n",
        "- Answer:: Mutability in Python refers to whether an object’s value can be changed after it is created.Mutable objects can be changed e.g , list, dict, set.\n",
        "            a = [1, 2, 3]\n",
        "            a[0] = 10\n",
        "\n",
        "            #Output\n",
        "            a=[10,2,3]\n",
        "\n",
        "Q6 Why are lists mutable, but tuples are immutable ?\n",
        "- Answer:: List:- Lists are designed to be flexible you can add, remove, or change elements.They are mutable so you can modify their contents without creating a new list.\n",
        "- Tuples:- Tuples on the other hand, are meant to be fixed collections of items.They are immutable to ensure data integrity, performance, and use in situations where constant values are needed\n",
        "\n",
        "\n",
        "Q7 What is the difference between “==” and “is” operators in Python ?\n",
        "- Answer:: == (Equality Operator):- Checks if two values are equal\n",
        "- is (Identity Operator):- Checks if two variables refer to the same object in memory.\n",
        "\n",
        "  For Example:-\n",
        "      \n",
        "      a = [1, 2, 3]\n",
        "      b = [1, 2, 3]\n",
        "\n",
        "      a == b #True (contents are equal)\n",
        "      a is b #False (different memory locations)\n",
        "\n",
        "\n",
        "Q8 What are logical operators in Python ?\n",
        "- Answer::Logical operators in Python are used to combine conditional statements.They return Boolean values True or False based on the logic between expressions.\n",
        "\n",
        "  Types of Logical Operators:- and,or,not.\n",
        "\n",
        "  1. and – Returns True if both conditions are true.\n",
        "     \n",
        "          x = 5\n",
        "          x > 2 and x < 10  # True\n",
        "  2.or – Returns True if at least one condition is true.\n",
        "      \n",
        "         x = 5\n",
        "         x < 2 or x < 10  # True\n",
        " 3.not – Reverses the result True becomes Fals\n",
        "\n",
        "        x = 5\n",
        "        not(x > 2)  # False\n",
        "\n",
        "Q9  What is type casting in Python ?\n",
        "- Answer:: Type casting in Python means converting a value from one data type to another.It allows you to change the data type of variables manually using built-in functions. Type Of TypeCasting Functions In Python:-\n",
        "                int() – Converts to integer\n",
        "\n",
        "                float() – Converts to float\n",
        "\n",
        "                str() – Converts to string\n",
        "\n",
        "                bool() – Converts to boolean\n",
        "\n",
        "\n",
        "Example\n",
        "\n",
        "                   x = \"10\"\n",
        "                   y = int(x)   # y becomes 10 (an integer)\n",
        "\n",
        "\n",
        "\n",
        "Q10 What is the difference between implicit and explicit type casting ?\n",
        "- Answer::-  implicit:- Done automatically by Python when no data loss occurs\n",
        "- explicit:-  Done manually by the programmer using type conversion functions.\n",
        "\n",
        "\n",
        "Example\n",
        "              # Implicit\n",
        "              a = 5\n",
        "              b = 2.0\n",
        "              c = a + b  # c is 7.0 (float)\n",
        "\n",
        "              # Explicit\n",
        "              x = \"10\"\n",
        "              y = int(x)  # y is 10 (int)\n",
        "\n",
        "\n",
        "Q11 What is the purpose of conditional statements in Python ?\n",
        "- Answer::- The purpose of conditional statements in Python is to make decisions in your code.They allow the program to execute certain blocks of code only when specific conditions are true.\n",
        "\n",
        "Conditional Statements:\n",
        "\n",
        "         # if\n",
        "\n",
        "         # elif\n",
        "\n",
        "         # else\n",
        "\n",
        "Example\n",
        "\n",
        "            age = 18\n",
        "            if age >= 18:\n",
        "                print(\"You can vote\")\n",
        "            else:\n",
        "                print(\"You cannot vote\")\n",
        "\n",
        "\n",
        "\n",
        "Q12  How does the elif statement work ?\n",
        "- Answer::- The elif statement is used to check multiple conditions after an initial if.It allows you to add additional checks when the first if condition is false.\n",
        "\n",
        "Example :-\n",
        "                  x = 20\n",
        "\n",
        "                  if x < 10:\n",
        "                      print(\"Less than 10\")\n",
        "                  elif x < 30:\n",
        "                      print(\"Less than 30\")\n",
        "                  else:\n",
        "                      print(\"30 or more\")\n",
        "\n",
        "                  Output: Less than 30\n",
        "\n",
        "\n",
        "\n",
        "Q13 What is the difference between for and while loops ?\n",
        "- Answer::- Forloop:- for loop is used when the number of iterations is known or you're iterating over a sequence.for loop uses a range or iterable to repeat.for is generally used for counted loops.\n",
        "- While Loop:- while loop is used when the number of iterations is unknown and depends on a condition.while loop runs as long as the condition is true. while is for conditional loops.\n",
        "\n",
        "Example:\n",
        "\n",
        "\n",
        "                  for i in range(5):       i = 0\n",
        "                      print(i)             while i < 5:\n",
        "                                              print(i)\n",
        "                                              i += 1\n",
        "\n",
        "                  #Output:-                    #Output:-\n",
        "                     0                           0\n",
        "                     1                           1\n",
        "                     2                           2\n",
        "                     3                           3\n",
        "                     4                           4\n",
        "\n",
        "                  \n",
        "\n",
        "\n",
        "Q14 Describe a scenario where a while loop is more suitable than a for loop.?\n",
        "- Answer::- A while loop is better when you don’t know in advance how many times the loop needs to run, and the loop depends on a condition being true.The loop should run as long as the condition is not met, which suits a while loop.\n",
        "\n",
        "Eample:-\n",
        "\n",
        "              count = 0\n",
        "              while count < 3:\n",
        "                  print(\"Hello\")\n",
        "                  count += 1\n",
        "\n",
        "              #output:=\n",
        "              Hello\n",
        "              Hello\n",
        "              Hello\n",
        "\n",
        "                 \n",
        "\n",
        "                        \n",
        "\n"
      ],
      "metadata": {
        "id": "AEEE65thY7QX"
      }
    },
    {
      "cell_type": "code",
      "source": [
        "#Practical Questions\n",
        "#Q1  Write a Python program to print \"Hello, World!\n",
        "print(\"Hello, World\")"
      ],
      "metadata": {
        "colab": {
          "base_uri": "https://localhost:8080/"
        },
        "id": "JmmoeFhdvFng",
        "outputId": "fd9d1a19-1a50-4497-bf42-8fe1aa474775"
      },
      "execution_count": 2,
      "outputs": [
        {
          "output_type": "stream",
          "name": "stdout",
          "text": [
            "Hello, World\n"
          ]
        }
      ]
    },
    {
      "cell_type": "code",
      "source": [
        "#Q2  Write a Python program that displays your name and age8\n",
        "\n",
        "name=input(\"Enter The Name:-\")\n",
        "age=int(input(\"Enter Your Age:-\"))\n",
        "print(f\"Name:-{name} age={age}\")"
      ],
      "metadata": {
        "colab": {
          "base_uri": "https://localhost:8080/"
        },
        "id": "BBBklqqNvqcM",
        "outputId": "ca4ce3c5-717d-4319-d227-fb6240edb0a7"
      },
      "execution_count": 3,
      "outputs": [
        {
          "output_type": "stream",
          "name": "stdout",
          "text": [
            "Enter The Name:-vaibhav khairnar\n",
            "Enter Your Age:-22\n",
            "Name:-vaibhav khairnar age=22\n"
          ]
        }
      ]
    },
    {
      "cell_type": "code",
      "source": [
        "#Q3 Write code to print all the pre-defined keywords in Python using the keyword library\n",
        "\n",
        "import keyword\n",
        "\n",
        "print(\"Python Keywords:\")\n",
        "for kw in keyword.kwlist:\n",
        "    print(kw)\n"
      ],
      "metadata": {
        "colab": {
          "base_uri": "https://localhost:8080/"
        },
        "id": "En4o3cXBwMWk",
        "outputId": "4e817d52-8ed3-44f9-92b5-8eba8a1e15f9"
      },
      "execution_count": 4,
      "outputs": [
        {
          "output_type": "stream",
          "name": "stdout",
          "text": [
            "Python Keywords:\n",
            "False\n",
            "None\n",
            "True\n",
            "and\n",
            "as\n",
            "assert\n",
            "async\n",
            "await\n",
            "break\n",
            "class\n",
            "continue\n",
            "def\n",
            "del\n",
            "elif\n",
            "else\n",
            "except\n",
            "finally\n",
            "for\n",
            "from\n",
            "global\n",
            "if\n",
            "import\n",
            "in\n",
            "is\n",
            "lambda\n",
            "nonlocal\n",
            "not\n",
            "or\n",
            "pass\n",
            "raise\n",
            "return\n",
            "try\n",
            "while\n",
            "with\n",
            "yield\n"
          ]
        }
      ]
    },
    {
      "cell_type": "code",
      "source": [
        "# Q4Write a program that checks if a given word is a Python keyword.\n",
        "\n",
        "import keyword\n",
        "word=input(\"Enter the Word \")\n",
        "if(word in keyword.kwlist):\n",
        "  print(\"Python Keyword\")\n",
        "else:\n",
        "  print(\"Not Python Keyword\")"
      ],
      "metadata": {
        "colab": {
          "base_uri": "https://localhost:8080/"
        },
        "id": "vNqh85ea1Vlq",
        "outputId": "aaf044a4-f034-4db9-a8d5-f4f29d50209c"
      },
      "execution_count": 8,
      "outputs": [
        {
          "output_type": "stream",
          "name": "stdout",
          "text": [
            "Enter the Word not\n",
            "Python Keyword\n"
          ]
        }
      ]
    },
    {
      "cell_type": "code",
      "source": [
        "#Q5 Create a list and tuple in Python, and demonstrate how attempting to change an element works differently for each.\n",
        "\n",
        "list=[1,2,3,4,5]\n",
        "tuple=(1,2,3,4,5)\n",
        "\n",
        "list[0]=10\n",
        "print(list)\n",
        "\n",
        "tuple[0]=10\n",
        "print(tuple)"
      ],
      "metadata": {
        "colab": {
          "base_uri": "https://localhost:8080/",
          "height": 211
        },
        "id": "MPsVl2h_2NSf",
        "outputId": "f876aee9-dffd-4ceb-fd28-1a19f353aab0"
      },
      "execution_count": 15,
      "outputs": [
        {
          "output_type": "stream",
          "name": "stdout",
          "text": [
            "[10, 2, 3, 4, 5]\n"
          ]
        },
        {
          "output_type": "error",
          "ename": "TypeError",
          "evalue": "'tuple' object does not support item assignment",
          "traceback": [
            "\u001b[0;31m---------------------------------------------------------------------------\u001b[0m",
            "\u001b[0;31mTypeError\u001b[0m                                 Traceback (most recent call last)",
            "\u001b[0;32m/tmp/ipython-input-177939475.py\u001b[0m in \u001b[0;36m<cell line: 0>\u001b[0;34m()\u001b[0m\n\u001b[1;32m      7\u001b[0m \u001b[0mprint\u001b[0m\u001b[0;34m(\u001b[0m\u001b[0mlist\u001b[0m\u001b[0;34m)\u001b[0m\u001b[0;34m\u001b[0m\u001b[0;34m\u001b[0m\u001b[0m\n\u001b[1;32m      8\u001b[0m \u001b[0;34m\u001b[0m\u001b[0m\n\u001b[0;32m----> 9\u001b[0;31m \u001b[0mtuple\u001b[0m\u001b[0;34m[\u001b[0m\u001b[0;36m0\u001b[0m\u001b[0;34m]\u001b[0m\u001b[0;34m=\u001b[0m\u001b[0;36m10\u001b[0m\u001b[0;34m\u001b[0m\u001b[0;34m\u001b[0m\u001b[0m\n\u001b[0m\u001b[1;32m     10\u001b[0m \u001b[0mprint\u001b[0m\u001b[0;34m(\u001b[0m\u001b[0mtuple\u001b[0m\u001b[0;34m)\u001b[0m\u001b[0;34m\u001b[0m\u001b[0;34m\u001b[0m\u001b[0m\n",
            "\u001b[0;31mTypeError\u001b[0m: 'tuple' object does not support item assignment"
          ]
        }
      ]
    },
    {
      "cell_type": "code",
      "source": [
        "#Q6 Write a function to demonstrate the behavior of mutable and immutable arguments.\n",
        "def modify_data(my_list, my_number):\n",
        "  my_list.append(100)\n",
        "  my_number += 10\n",
        "  print(\"Inside function - List:\", my_list)\n",
        "  print(\"Inside function - Number:\", my_number)\n",
        "\n",
        "numbers = [1, 2, 3]\n",
        "value = 50\n",
        "\n",
        "modify_data(numbers, value)\n",
        "\n",
        "print(\"Outside function - List:\", numbers)\n",
        "print(\"Outside function - Number:\", value)\n"
      ],
      "metadata": {
        "colab": {
          "base_uri": "https://localhost:8080/"
        },
        "id": "ccErLNgW3Xuf",
        "outputId": "9d6b111c-b9ca-4efa-8f3b-e42bfd86e3dd"
      },
      "execution_count": 16,
      "outputs": [
        {
          "output_type": "stream",
          "name": "stdout",
          "text": [
            "Inside function - List: [1, 2, 3, 100]\n",
            "Inside function - Number: 60\n",
            "Outside function - List: [1, 2, 3, 100]\n",
            "Outside function - Number: 50\n"
          ]
        }
      ]
    },
    {
      "cell_type": "code",
      "source": [
        "#Q7  Write a program that performs basic arithmetic operations on two user-input numbers\n",
        "\n",
        "a=10\n",
        "b=5\n",
        "print(a+b, a*b, a-b, a/b, a//b, a**b, a%b)\n"
      ],
      "metadata": {
        "colab": {
          "base_uri": "https://localhost:8080/"
        },
        "id": "Rf0TwWqU6noI",
        "outputId": "680b7645-7357-4189-fe94-74d7f53d165c"
      },
      "execution_count": 22,
      "outputs": [
        {
          "output_type": "stream",
          "name": "stdout",
          "text": [
            "15 50 5 2.0 2 100000 0\n"
          ]
        }
      ]
    },
    {
      "cell_type": "code",
      "source": [
        "#Q8 Write a program to demonstrate the use of logical operators.\n",
        "\n",
        "a1=10\n",
        "b=20\n",
        "if(a<b and b>a):\n",
        "  print(bool(1))\n",
        "elif(a>b or a<b):\n",
        "  print(bool(1))\n",
        "elif(not a>b):\n",
        "  print(bool(0))\n",
        "\n"
      ],
      "metadata": {
        "colab": {
          "base_uri": "https://localhost:8080/"
        },
        "id": "meCWg4MR7Oy3",
        "outputId": "95692366-46de-4e6b-9283-7d2fefbf4b5a"
      },
      "execution_count": 24,
      "outputs": [
        {
          "output_type": "stream",
          "name": "stdout",
          "text": [
            "True\n"
          ]
        }
      ]
    },
    {
      "cell_type": "code",
      "source": [
        "#Q9"
      ],
      "metadata": {
        "id": "2L358cLr9U_B"
      },
      "execution_count": null,
      "outputs": []
    }
  ]
}